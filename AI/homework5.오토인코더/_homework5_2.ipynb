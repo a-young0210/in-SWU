{
  "nbformat": 4,
  "nbformat_minor": 0,
  "metadata": {
    "colab": {
      "name": "\bhomework5_2.ipynb",
      "provenance": []
    },
    "kernelspec": {
      "name": "python3",
      "display_name": "Python 3"
    },
    "language_info": {
      "name": "python"
    }
  },
  "cells": [
    {
      "cell_type": "code",
      "metadata": {
        "colab": {
          "base_uri": "https://localhost:8080/"
        },
        "id": "1l5rgLp0fCLN",
        "outputId": "6f47a430-1f7d-4af3-86c2-7e0d49cf149c"
      },
      "source": [
        "!pip uninstall tensorflow"
      ],
      "execution_count": 2,
      "outputs": [
        {
          "output_type": "stream",
          "name": "stdout",
          "text": [
            "Found existing installation: tensorflow 2.7.0\n",
            "Uninstalling tensorflow-2.7.0:\n",
            "  Would remove:\n",
            "    /usr/local/bin/estimator_ckpt_converter\n",
            "    /usr/local/bin/import_pb_to_tensorboard\n",
            "    /usr/local/bin/saved_model_cli\n",
            "    /usr/local/bin/tensorboard\n",
            "    /usr/local/bin/tf_upgrade_v2\n",
            "    /usr/local/bin/tflite_convert\n",
            "    /usr/local/bin/toco\n",
            "    /usr/local/bin/toco_from_protos\n",
            "    /usr/local/lib/python3.7/dist-packages/tensorflow-2.7.0.dist-info/*\n",
            "    /usr/local/lib/python3.7/dist-packages/tensorflow/*\n",
            "Proceed (y/n)? y\n",
            "  Successfully uninstalled tensorflow-2.7.0\n"
          ]
        }
      ]
    },
    {
      "cell_type": "code",
      "metadata": {
        "colab": {
          "base_uri": "https://localhost:8080/"
        },
        "id": "AvxM8tSlfk39",
        "outputId": "52670e21-e5df-4804-85a6-4a2533c0a94c"
      },
      "source": [
        "!pip install tensorflow==1.15"
      ],
      "execution_count": 3,
      "outputs": [
        {
          "output_type": "stream",
          "name": "stdout",
          "text": [
            "Collecting tensorflow==1.15\n",
            "  Downloading tensorflow-1.15.0-cp37-cp37m-manylinux2010_x86_64.whl (412.3 MB)\n",
            "\u001b[K     |████████████████████████████████| 412.3 MB 23 kB/s \n",
            "\u001b[?25hRequirement already satisfied: keras-preprocessing>=1.0.5 in /usr/local/lib/python3.7/dist-packages (from tensorflow==1.15) (1.1.2)\n",
            "Requirement already satisfied: numpy<2.0,>=1.16.0 in /usr/local/lib/python3.7/dist-packages (from tensorflow==1.15) (1.19.5)\n",
            "Collecting gast==0.2.2\n",
            "  Downloading gast-0.2.2.tar.gz (10 kB)\n",
            "Collecting keras-applications>=1.0.8\n",
            "  Downloading Keras_Applications-1.0.8-py3-none-any.whl (50 kB)\n",
            "\u001b[K     |████████████████████████████████| 50 kB 5.9 MB/s \n",
            "\u001b[?25hCollecting tensorflow-estimator==1.15.1\n",
            "  Downloading tensorflow_estimator-1.15.1-py2.py3-none-any.whl (503 kB)\n",
            "\u001b[K     |████████████████████████████████| 503 kB 71.5 MB/s \n",
            "\u001b[?25hRequirement already satisfied: wrapt>=1.11.1 in /usr/local/lib/python3.7/dist-packages (from tensorflow==1.15) (1.13.3)\n",
            "Requirement already satisfied: absl-py>=0.7.0 in /usr/local/lib/python3.7/dist-packages (from tensorflow==1.15) (0.12.0)\n",
            "Requirement already satisfied: protobuf>=3.6.1 in /usr/local/lib/python3.7/dist-packages (from tensorflow==1.15) (3.17.3)\n",
            "Requirement already satisfied: grpcio>=1.8.6 in /usr/local/lib/python3.7/dist-packages (from tensorflow==1.15) (1.42.0)\n",
            "Requirement already satisfied: opt-einsum>=2.3.2 in /usr/local/lib/python3.7/dist-packages (from tensorflow==1.15) (3.3.0)\n",
            "Requirement already satisfied: astor>=0.6.0 in /usr/local/lib/python3.7/dist-packages (from tensorflow==1.15) (0.8.1)\n",
            "Requirement already satisfied: termcolor>=1.1.0 in /usr/local/lib/python3.7/dist-packages (from tensorflow==1.15) (1.1.0)\n",
            "Requirement already satisfied: google-pasta>=0.1.6 in /usr/local/lib/python3.7/dist-packages (from tensorflow==1.15) (0.2.0)\n",
            "Requirement already satisfied: six>=1.10.0 in /usr/local/lib/python3.7/dist-packages (from tensorflow==1.15) (1.15.0)\n",
            "Collecting tensorboard<1.16.0,>=1.15.0\n",
            "  Downloading tensorboard-1.15.0-py3-none-any.whl (3.8 MB)\n",
            "\u001b[K     |████████████████████████████████| 3.8 MB 30.1 MB/s \n",
            "\u001b[?25hRequirement already satisfied: wheel>=0.26 in /usr/local/lib/python3.7/dist-packages (from tensorflow==1.15) (0.37.0)\n",
            "Requirement already satisfied: h5py in /usr/local/lib/python3.7/dist-packages (from keras-applications>=1.0.8->tensorflow==1.15) (3.1.0)\n",
            "Requirement already satisfied: werkzeug>=0.11.15 in /usr/local/lib/python3.7/dist-packages (from tensorboard<1.16.0,>=1.15.0->tensorflow==1.15) (1.0.1)\n",
            "Requirement already satisfied: markdown>=2.6.8 in /usr/local/lib/python3.7/dist-packages (from tensorboard<1.16.0,>=1.15.0->tensorflow==1.15) (3.3.6)\n",
            "Requirement already satisfied: setuptools>=41.0.0 in /usr/local/lib/python3.7/dist-packages (from tensorboard<1.16.0,>=1.15.0->tensorflow==1.15) (57.4.0)\n",
            "Requirement already satisfied: importlib-metadata>=4.4 in /usr/local/lib/python3.7/dist-packages (from markdown>=2.6.8->tensorboard<1.16.0,>=1.15.0->tensorflow==1.15) (4.8.2)\n",
            "Requirement already satisfied: zipp>=0.5 in /usr/local/lib/python3.7/dist-packages (from importlib-metadata>=4.4->markdown>=2.6.8->tensorboard<1.16.0,>=1.15.0->tensorflow==1.15) (3.6.0)\n",
            "Requirement already satisfied: typing-extensions>=3.6.4 in /usr/local/lib/python3.7/dist-packages (from importlib-metadata>=4.4->markdown>=2.6.8->tensorboard<1.16.0,>=1.15.0->tensorflow==1.15) (3.10.0.2)\n",
            "Requirement already satisfied: cached-property in /usr/local/lib/python3.7/dist-packages (from h5py->keras-applications>=1.0.8->tensorflow==1.15) (1.5.2)\n",
            "Building wheels for collected packages: gast\n",
            "  Building wheel for gast (setup.py) ... \u001b[?25l\u001b[?25hdone\n",
            "  Created wheel for gast: filename=gast-0.2.2-py3-none-any.whl size=7554 sha256=8949141215bd8b844bdcd7bb2f7490f67645ca096f379f28101ef3b85bec992e\n",
            "  Stored in directory: /root/.cache/pip/wheels/21/7f/02/420f32a803f7d0967b48dd823da3f558c5166991bfd204eef3\n",
            "Successfully built gast\n",
            "Installing collected packages: tensorflow-estimator, tensorboard, keras-applications, gast, tensorflow\n",
            "  Attempting uninstall: tensorflow-estimator\n",
            "    Found existing installation: tensorflow-estimator 2.7.0\n",
            "    Uninstalling tensorflow-estimator-2.7.0:\n",
            "      Successfully uninstalled tensorflow-estimator-2.7.0\n",
            "  Attempting uninstall: tensorboard\n",
            "    Found existing installation: tensorboard 2.7.0\n",
            "    Uninstalling tensorboard-2.7.0:\n",
            "      Successfully uninstalled tensorboard-2.7.0\n",
            "  Attempting uninstall: gast\n",
            "    Found existing installation: gast 0.4.0\n",
            "    Uninstalling gast-0.4.0:\n",
            "      Successfully uninstalled gast-0.4.0\n",
            "\u001b[31mERROR: pip's dependency resolver does not currently take into account all the packages that are installed. This behaviour is the source of the following dependency conflicts.\n",
            "tensorflow-probability 0.15.0 requires gast>=0.3.2, but you have gast 0.2.2 which is incompatible.\n",
            "kapre 0.3.6 requires tensorflow>=2.0.0, but you have tensorflow 1.15.0 which is incompatible.\u001b[0m\n",
            "Successfully installed gast-0.2.2 keras-applications-1.0.8 tensorboard-1.15.0 tensorflow-1.15.0 tensorflow-estimator-1.15.1\n"
          ]
        }
      ]
    },
    {
      "cell_type": "code",
      "metadata": {
        "colab": {
          "base_uri": "https://localhost:8080/"
        },
        "id": "-x2bDwlpfpMg",
        "outputId": "84e59de8-fae1-45ed-d060-24d749bb2e63"
      },
      "source": [
        "import tensorflow as tf\n",
        "print(tf.__version__)"
      ],
      "execution_count": 4,
      "outputs": [
        {
          "output_type": "stream",
          "name": "stdout",
          "text": [
            "1.15.0\n"
          ]
        }
      ]
    },
    {
      "cell_type": "code",
      "metadata": {
        "id": "fBPbm77nfug6"
      },
      "source": [
        "import matplotlib.pyplot as plt\n",
        "import numpy as np"
      ],
      "execution_count": 5,
      "outputs": []
    },
    {
      "cell_type": "code",
      "metadata": {
        "colab": {
          "base_uri": "https://localhost:8080/"
        },
        "id": "MG0pAVgOfxHV",
        "outputId": "591df54d-654a-43f5-8394-21d1d8a91d10"
      },
      "source": [
        "from tensorflow.examples.tutorials.mnist import input_data\n",
        "mnist = input_data.read_data_sets(\"./mnist/data\", one_hot=True)"
      ],
      "execution_count": 6,
      "outputs": [
        {
          "output_type": "stream",
          "name": "stdout",
          "text": [
            "WARNING:tensorflow:From <ipython-input-6-63985f94b522>:2: read_data_sets (from tensorflow.contrib.learn.python.learn.datasets.mnist) is deprecated and will be removed in a future version.\n",
            "Instructions for updating:\n",
            "Please use alternatives such as official/mnist/dataset.py from tensorflow/models.\n",
            "WARNING:tensorflow:From /usr/local/lib/python3.7/dist-packages/tensorflow_core/contrib/learn/python/learn/datasets/mnist.py:260: maybe_download (from tensorflow.contrib.learn.python.learn.datasets.base) is deprecated and will be removed in a future version.\n",
            "Instructions for updating:\n",
            "Please write your own downloading logic.\n",
            "WARNING:tensorflow:From /usr/local/lib/python3.7/dist-packages/tensorflow_core/contrib/learn/python/learn/datasets/base.py:252: _internal_retry.<locals>.wrap.<locals>.wrapped_fn (from tensorflow.contrib.learn.python.learn.datasets.base) is deprecated and will be removed in a future version.\n",
            "Instructions for updating:\n",
            "Please use urllib or similar directly.\n",
            "Successfully downloaded train-images-idx3-ubyte.gz 9912422 bytes.\n",
            "WARNING:tensorflow:From /usr/local/lib/python3.7/dist-packages/tensorflow_core/contrib/learn/python/learn/datasets/mnist.py:262: extract_images (from tensorflow.contrib.learn.python.learn.datasets.mnist) is deprecated and will be removed in a future version.\n",
            "Instructions for updating:\n",
            "Please use tf.data to implement this functionality.\n",
            "Extracting ./mnist/data/train-images-idx3-ubyte.gz\n",
            "Successfully downloaded train-labels-idx1-ubyte.gz 28881 bytes.\n",
            "WARNING:tensorflow:From /usr/local/lib/python3.7/dist-packages/tensorflow_core/contrib/learn/python/learn/datasets/mnist.py:267: extract_labels (from tensorflow.contrib.learn.python.learn.datasets.mnist) is deprecated and will be removed in a future version.\n",
            "Instructions for updating:\n",
            "Please use tf.data to implement this functionality.\n",
            "Extracting ./mnist/data/train-labels-idx1-ubyte.gz\n",
            "WARNING:tensorflow:From /usr/local/lib/python3.7/dist-packages/tensorflow_core/contrib/learn/python/learn/datasets/mnist.py:110: dense_to_one_hot (from tensorflow.contrib.learn.python.learn.datasets.mnist) is deprecated and will be removed in a future version.\n",
            "Instructions for updating:\n",
            "Please use tf.one_hot on tensors.\n",
            "Successfully downloaded t10k-images-idx3-ubyte.gz 1648877 bytes.\n",
            "Extracting ./mnist/data/t10k-images-idx3-ubyte.gz\n",
            "Successfully downloaded t10k-labels-idx1-ubyte.gz 4542 bytes.\n",
            "Extracting ./mnist/data/t10k-labels-idx1-ubyte.gz\n",
            "WARNING:tensorflow:From /usr/local/lib/python3.7/dist-packages/tensorflow_core/contrib/learn/python/learn/datasets/mnist.py:290: DataSet.__init__ (from tensorflow.contrib.learn.python.learn.datasets.mnist) is deprecated and will be removed in a future version.\n",
            "Instructions for updating:\n",
            "Please use alternatives such as official/mnist/dataset.py from tensorflow/models.\n"
          ]
        }
      ]
    },
    {
      "cell_type": "code",
      "metadata": {
        "id": "EcSN84NLf5tS"
      },
      "source": [
        "# 옵션 설정\n",
        "\n",
        "learning_rate = 0.01\n",
        "total_epoch = 100\n",
        "batch_size = 100\n",
        "encoder_layer = 256 \n",
        "n_hidden = 128\n",
        "decoder_layer = 256 \n",
        "n_input = 28 * 28"
      ],
      "execution_count": 7,
      "outputs": []
    },
    {
      "cell_type": "code",
      "metadata": {
        "id": "y6XL-SFREteV"
      },
      "source": [
        "# 신경망 모델 구성\n",
        "\n",
        "X = tf.placeholder(tf.float32, [None, n_input])"
      ],
      "execution_count": 8,
      "outputs": []
    },
    {
      "cell_type": "code",
      "metadata": {
        "id": "OXPBjDVHE2MD"
      },
      "source": [
        "W_encode = tf.Variable(tf.random_normal([n_input, encoder_layer]))\n",
        "W_encode2 = tf.Variable(tf.random_normal([encoder_layer, n_hidden]))\n",
        "b_encode = tf.Variable(tf.random_normal([encoder_layer]))\n",
        "b_encode2 = tf.Variable(tf.random_normal([n_hidden]))\n",
        "encoder = tf.nn.sigmoid(tf.add(tf.matmul(X, W_encode), b_encode))\n",
        "encoder2 = tf.nn.sigmoid(tf.add(tf.matmul(encoder, W_encode2), b_encode2))"
      ],
      "execution_count": 9,
      "outputs": []
    },
    {
      "cell_type": "code",
      "metadata": {
        "id": "DWr2OUPvgA-F"
      },
      "source": [
        "W_decode = tf.Variable(tf.random_normal([n_hidden, decoder_layer]))\n",
        "W_decode2 = tf.Variable(tf.random_normal([decoder_layer, n_input]))\n",
        "b_decode = tf.Variable(tf.random_normal([decoder_layer]))\n",
        "b_decode2 = tf.Variable(tf.random_normal([n_input]))\n",
        "decoder = tf.nn.sigmoid(tf.add(tf.matmul(encoder2, W_decode), b_decode))\n",
        "decoder2 = tf.nn.sigmoid(tf.add(tf.matmul(decoder, W_decode2), b_decode2))"
      ],
      "execution_count": 10,
      "outputs": []
    },
    {
      "cell_type": "code",
      "metadata": {
        "id": "kbUHMqO2gDuE",
        "colab": {
          "base_uri": "https://localhost:8080/"
        },
        "outputId": "b5fd81d9-e966-40f1-e404-ccb938360376"
      },
      "source": [
        "cost = tf.reduce_mean(tf.pow(X-decoder2, 2))\n",
        "optimizer = tf.train.AdamOptimizer(learning_rate).minimize(cost)"
      ],
      "execution_count": 11,
      "outputs": [
        {
          "output_type": "stream",
          "name": "stdout",
          "text": [
            "WARNING:tensorflow:From /usr/local/lib/python3.7/dist-packages/tensorflow_core/python/ops/math_grad.py:1375: where (from tensorflow.python.ops.array_ops) is deprecated and will be removed in a future version.\n",
            "Instructions for updating:\n",
            "Use tf.where in 2.0, which has the same broadcast rule as np.where\n"
          ]
        }
      ]
    },
    {
      "cell_type": "code",
      "metadata": {
        "colab": {
          "base_uri": "https://localhost:8080/"
        },
        "id": "oBp7HKCpgF3L",
        "outputId": "ff6f32a7-e8f7-45a3-eda8-a6da9a1436af"
      },
      "source": [
        "# 신경망 모델 학습\n",
        "\n",
        "init = tf.global_variables_initializer()\n",
        "sess = tf.Session()\n",
        "sess.run(init)\n",
        "\n",
        "total_batch = int(mnist.train.num_examples / batch_size)\n",
        "\n",
        "for epoch in range(total_epoch):\n",
        "  total_cost = 0\n",
        "\n",
        "  for i in range(total_batch):\n",
        "    batch_xs, batch_ys = mnist.train.next_batch(batch_size)\n",
        "    _, cost_val = sess.run([optimizer, cost], feed_dict={X: batch_xs})\n",
        "\n",
        "    total_cost += cost_val\n",
        "  \n",
        "  print('Epoch:', '%04d' % (epoch + 1), 'Avg. cost = ', '{:.4f}'.\n",
        "        format(total_cost / total_batch))\n",
        "\n",
        "print('최적화 완료!')"
      ],
      "execution_count": 12,
      "outputs": [
        {
          "output_type": "stream",
          "name": "stdout",
          "text": [
            "Epoch: 0001 Avg. cost =  0.1009\n",
            "Epoch: 0002 Avg. cost =  0.0784\n",
            "Epoch: 0003 Avg. cost =  0.0722\n",
            "Epoch: 0004 Avg. cost =  0.0689\n",
            "Epoch: 0005 Avg. cost =  0.0643\n",
            "Epoch: 0006 Avg. cost =  0.0617\n",
            "Epoch: 0007 Avg. cost =  0.0599\n",
            "Epoch: 0008 Avg. cost =  0.0593\n",
            "Epoch: 0009 Avg. cost =  0.0587\n",
            "Epoch: 0010 Avg. cost =  0.0580\n",
            "Epoch: 0011 Avg. cost =  0.0575\n",
            "Epoch: 0012 Avg. cost =  0.0570\n",
            "Epoch: 0013 Avg. cost =  0.0566\n",
            "Epoch: 0014 Avg. cost =  0.0563\n",
            "Epoch: 0015 Avg. cost =  0.0561\n",
            "Epoch: 0016 Avg. cost =  0.0558\n",
            "Epoch: 0017 Avg. cost =  0.0556\n",
            "Epoch: 0018 Avg. cost =  0.0554\n",
            "Epoch: 0019 Avg. cost =  0.0553\n",
            "Epoch: 0020 Avg. cost =  0.0546\n",
            "Epoch: 0021 Avg. cost =  0.0544\n",
            "Epoch: 0022 Avg. cost =  0.0543\n",
            "Epoch: 0023 Avg. cost =  0.0543\n",
            "Epoch: 0024 Avg. cost =  0.0541\n",
            "Epoch: 0025 Avg. cost =  0.0540\n",
            "Epoch: 0026 Avg. cost =  0.0540\n",
            "Epoch: 0027 Avg. cost =  0.0539\n",
            "Epoch: 0028 Avg. cost =  0.0538\n",
            "Epoch: 0029 Avg. cost =  0.0537\n",
            "Epoch: 0030 Avg. cost =  0.0537\n",
            "Epoch: 0031 Avg. cost =  0.0536\n",
            "Epoch: 0032 Avg. cost =  0.0536\n",
            "Epoch: 0033 Avg. cost =  0.0535\n",
            "Epoch: 0034 Avg. cost =  0.0524\n",
            "Epoch: 0035 Avg. cost =  0.0522\n",
            "Epoch: 0036 Avg. cost =  0.0522\n",
            "Epoch: 0037 Avg. cost =  0.0521\n",
            "Epoch: 0038 Avg. cost =  0.0521\n",
            "Epoch: 0039 Avg. cost =  0.0520\n",
            "Epoch: 0040 Avg. cost =  0.0520\n",
            "Epoch: 0041 Avg. cost =  0.0520\n",
            "Epoch: 0042 Avg. cost =  0.0519\n",
            "Epoch: 0043 Avg. cost =  0.0519\n",
            "Epoch: 0044 Avg. cost =  0.0519\n",
            "Epoch: 0045 Avg. cost =  0.0518\n",
            "Epoch: 0046 Avg. cost =  0.0518\n",
            "Epoch: 0047 Avg. cost =  0.0518\n",
            "Epoch: 0048 Avg. cost =  0.0517\n",
            "Epoch: 0049 Avg. cost =  0.0517\n",
            "Epoch: 0050 Avg. cost =  0.0516\n",
            "Epoch: 0051 Avg. cost =  0.0517\n",
            "Epoch: 0052 Avg. cost =  0.0517\n",
            "Epoch: 0053 Avg. cost =  0.0516\n",
            "Epoch: 0054 Avg. cost =  0.0516\n",
            "Epoch: 0055 Avg. cost =  0.0516\n",
            "Epoch: 0056 Avg. cost =  0.0516\n",
            "Epoch: 0057 Avg. cost =  0.0515\n",
            "Epoch: 0058 Avg. cost =  0.0515\n",
            "Epoch: 0059 Avg. cost =  0.0515\n",
            "Epoch: 0060 Avg. cost =  0.0515\n",
            "Epoch: 0061 Avg. cost =  0.0514\n",
            "Epoch: 0062 Avg. cost =  0.0515\n",
            "Epoch: 0063 Avg. cost =  0.0514\n",
            "Epoch: 0064 Avg. cost =  0.0514\n",
            "Epoch: 0065 Avg. cost =  0.0514\n",
            "Epoch: 0066 Avg. cost =  0.0514\n",
            "Epoch: 0067 Avg. cost =  0.0514\n",
            "Epoch: 0068 Avg. cost =  0.0514\n",
            "Epoch: 0069 Avg. cost =  0.0514\n",
            "Epoch: 0070 Avg. cost =  0.0513\n",
            "Epoch: 0071 Avg. cost =  0.0513\n",
            "Epoch: 0072 Avg. cost =  0.0513\n",
            "Epoch: 0073 Avg. cost =  0.0513\n",
            "Epoch: 0074 Avg. cost =  0.0513\n",
            "Epoch: 0075 Avg. cost =  0.0513\n",
            "Epoch: 0076 Avg. cost =  0.0513\n",
            "Epoch: 0077 Avg. cost =  0.0512\n",
            "Epoch: 0078 Avg. cost =  0.0512\n",
            "Epoch: 0079 Avg. cost =  0.0513\n",
            "Epoch: 0080 Avg. cost =  0.0512\n",
            "Epoch: 0081 Avg. cost =  0.0512\n",
            "Epoch: 0082 Avg. cost =  0.0512\n",
            "Epoch: 0083 Avg. cost =  0.0512\n",
            "Epoch: 0084 Avg. cost =  0.0512\n",
            "Epoch: 0085 Avg. cost =  0.0512\n",
            "Epoch: 0086 Avg. cost =  0.0512\n",
            "Epoch: 0087 Avg. cost =  0.0511\n",
            "Epoch: 0088 Avg. cost =  0.0511\n",
            "Epoch: 0089 Avg. cost =  0.0512\n",
            "Epoch: 0090 Avg. cost =  0.0511\n",
            "Epoch: 0091 Avg. cost =  0.0511\n",
            "Epoch: 0092 Avg. cost =  0.0511\n",
            "Epoch: 0093 Avg. cost =  0.0511\n",
            "Epoch: 0094 Avg. cost =  0.0511\n",
            "Epoch: 0095 Avg. cost =  0.0511\n",
            "Epoch: 0096 Avg. cost =  0.0507\n",
            "Epoch: 0097 Avg. cost =  0.0507\n",
            "Epoch: 0098 Avg. cost =  0.0507\n",
            "Epoch: 0099 Avg. cost =  0.0507\n",
            "Epoch: 0100 Avg. cost =  0.0507\n",
            "최적화 완료!\n"
          ]
        }
      ]
    },
    {
      "cell_type": "code",
      "metadata": {
        "colab": {
          "base_uri": "https://localhost:8080/",
          "height": 137
        },
        "id": "NPxAHaqYn_zs",
        "outputId": "a1659023-cdd0-471c-829c-7e469374ecd6"
      },
      "source": [
        "# 결과 확인\n",
        "\n",
        "sample_size = 10\n",
        "samples = sess.run(decoder2, feed_dict={X: mnist.test.images[:sample_size]})\n",
        "\n",
        "fig, ax = plt.subplots(2, sample_size, figsize=(sample_size, 2))\n",
        "\n",
        "for i in range(sample_size):\n",
        "  ax[0][i].set_axis_off()\n",
        "  ax[1][i].set_axis_off()\n",
        "  ax[0][i].imshow(np.reshape(mnist.test.images[i], (28, 28)))\n",
        "  ax[1][i].imshow(np.reshape(samples[i], (28, 28)))\n",
        "\n",
        "plt.show()"
      ],
      "execution_count": 13,
      "outputs": [
        {
          "output_type": "display_data",
          "data": {
            "image/png": "[encoded data removed]",
            "text/plain": [
              "<Figure size 720x144 with 20 Axes>"
            ]
          },
          "metadata": {
            "needs_background": "light"
          }
        }
      ]
    }
  ]
}